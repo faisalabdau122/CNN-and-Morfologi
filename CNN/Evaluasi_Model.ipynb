{
  "nbformat": 4,
  "nbformat_minor": 0,
  "metadata": {
    "colab": {
      "provenance": []
    },
    "kernelspec": {
      "name": "python3",
      "display_name": "Python 3"
    },
    "language_info": {
      "name": "python"
    }
  },
  "cells": [
    {
      "cell_type": "code",
      "execution_count": null,
      "metadata": {
        "id": "kFPWCkQZrhI6"
      },
      "outputs": [],
      "source": [
        "# Membuat plot akurasi model VGG16\n",
        "plt.figure(figsize=(10,4))\n",
        "plt.plot(vgg_hist.history['accuracy'])\n",
        "plt.plot(vgg_hist.history['val_accuracy'])\n",
        "plt.title('VGG16 model accuracy')\n",
        "plt.ylabel('accuracy')\n",
        "plt.xlabel('epoch')\n",
        "plt.legend(['train', 'test'], loc='upper left')\n",
        "plt.grid(True)\n",
        "plt.show()\n",
        "\n",
        "print()\n",
        "\n",
        "# Membuat plot loss model VGG16\n",
        "plt.figure(figsize=(10,4))\n",
        "plt.plot(vgg_hist.history['loss'])\n",
        "plt.plot(vgg_hist.history['val_loss'])\n",
        "plt.title('VGG16 model loss')\n",
        "plt.ylabel('loss')\n",
        "plt.xlabel('epoch')\n",
        "plt.legend(['train', 'test'], loc='upper left')\n",
        "plt.grid(True)\n",
        "plt.show()"
      ]
    }
  ]
}