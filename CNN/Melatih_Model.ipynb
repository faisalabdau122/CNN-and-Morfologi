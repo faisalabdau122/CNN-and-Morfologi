{
  "nbformat": 4,
  "nbformat_minor": 0,
  "metadata": {
    "colab": {
      "provenance": []
    },
    "kernelspec": {
      "name": "python3",
      "display_name": "Python 3"
    },
    "language_info": {
      "name": "python"
    }
  },
  "cells": [
    {
      "cell_type": "code",
      "execution_count": null,
      "metadata": {
        "id": "kFPWCkQZrhI6"
      },
      "outputs": [],
      "source": [
        "# Melatih model VGG16\n",
        "vgg_hist = vgg_model.fit(\n",
        "    train_data,\n",
        "    epochs=20,\n",
        "    validation_data = valid_data\n",
        ")\n",
        "\n"
      ]
    }
  ]
}