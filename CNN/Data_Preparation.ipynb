{
  "nbformat": 4,
  "nbformat_minor": 0,
  "metadata": {
    "colab": {
      "provenance": []
    },
    "kernelspec": {
      "name": "python3",
      "display_name": "Python 3"
    },
    "language_info": {
      "name": "python"
    }
  },
  "cells": [
    {
      "cell_type": "code",
      "execution_count": null,
      "metadata": {
        "id": "kFPWCkQZrhI6"
      },
      "outputs": [],
      "source": [
        "import tensorflow as tf\n",
        "\n",
        "datagen = tf.keras.preprocessing.image.ImageDataGenerator(\n",
        "    validation_split=0.2\n",
        ")\n",
        "# Menyiapkan data train dan data validation\n",
        "train_data = datagen.flow_from_directory(\n",
        "    base_dir,\n",
        "    class_mode='categorical',\n",
        "    subset='training',\n",
        "    target_size=IMAGE_SIZE,\n",
        "    batch_size=BATCH_SIZE,\n",
        "    seed=SEED\n",
        ")\n",
        "\n",
        "valid_data = datagen.flow_from_directory(\n",
        "    base_dir,\n",
        "    class_mode='categorical',\n",
        "    subset='validation',\n",
        "    target_size=IMAGE_SIZE,\n",
        "    batch_size=BATCH_SIZE,\n",
        "    seed=SEED\n",
        ")\n",
        "\n",
        "data_augmentation = tf.keras.Sequential(\n",
        "  [\n",
        "    tf.keras.layers.RandomFlip(\"horizontal\",\n",
        "                      input_shape=(IMAGE_SIZE[0],\n",
        "                                  IMAGE_SIZE[1],\n",
        "                                  3)),\n",
        "    tf.keras.layers.RandomRotation(0.1),\n",
        "    tf.keras.layers.RandomZoom(0.1),\n",
        "    tf.keras.layers.Rescaling(1./255)\n",
        "  ]\n",
        ")\n",
        "\n"
      ]
    }
  ]
}