{
  "nbformat": 4,
  "nbformat_minor": 0,
  "metadata": {
    "colab": {
      "provenance": []
    },
    "kernelspec": {
      "name": "python3",
      "display_name": "Python 3"
    },
    "language_info": {
      "name": "python"
    }
  },
  "cells": [
    {
      "cell_type": "code",
      "execution_count": null,
      "metadata": {
        "id": "kFPWCkQZrhI6"
      },
      "outputs": [],
      "source": [
        "import tensorflow as tf\n",
        "from tensorflow.keras.applications.vgg16 import VGG16\n",
        "\n",
        "## Loading VGG16 model\n",
        "base_vgg_model = VGG16(weights=\"imagenet\", include_top=False, input_shape=(IMAGE_SIZE[0], IMAGE_SIZE[1], 3))\n",
        "base_vgg_model.trainable = False\n",
        "\n",
        "# Preprocessing Input\n",
        "vgg_preprocess = tf.keras.applications.vgg16.preprocess_input\n",
        "train_data.preprocessing_function = vgg_preprocess\n",
        "\n",
        "# Transfer learning dengan VGG16\n",
        "vgg_model = tf.keras.models.Sequential([\n",
        "  data_augmentation,\n",
        "  base_vgg_model,\n",
        "  tf.keras.layers.Dropout(0.7),\n",
        "  tf.keras.layers.Flatten(),\n",
        "  tf.keras.layers.Dense(64, activation='relu'),\n",
        "  tf.keras.layers.Dense(64, activation='relu'),\n",
        "  tf.keras.layers.Dense(5, activation='softmax')\n",
        "])\n",
        "\n",
        "# Compiling model\n",
        "vgg_model.compile(\n",
        "    loss='categorical_crossentropy',\n",
        "    optimizer=tf.keras.optimizers.Adam(),\n",
        "    metrics=['accuracy']\n",
        "  )"
      ]
    }
  ]
}