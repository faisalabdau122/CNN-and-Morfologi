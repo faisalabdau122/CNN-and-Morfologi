{
  "nbformat": 4,
  "nbformat_minor": 0,
  "metadata": {
    "colab": {
      "provenance": []
    },
    "kernelspec": {
      "name": "python3",
      "display_name": "Python 3"
    },
    "language_info": {
      "name": "python"
    }
  },
  "cells": [
    {
      "cell_type": "code",
      "execution_count": null,
      "metadata": {
        "id": "kFPWCkQZrhI6"
      },
      "outputs": [],
      "source": [
        "import numpy as np\n",
        "from keras.preprocessing import image\n",
        "from google.colab import files\n",
        "%matplotlib inline\n",
        "\n",
        "\n",
        "#file upload, kode di bawah in hanya bisa dijalankan di google colab dengan mengimport from google.colab import files. Silahkan kalian ganti kodingannya agar bisa upload di jupyter notebook masing-masing\n",
        "#atau kalian langsung import file gambarnya langsung\n",
        "uploaded = files.upload()\n",
        "\n",
        "for fn in uploaded.keys():\n",
        "\n",
        "  # prediksi gambar\n",
        "  path = fn\n",
        "  img = image.load_img(path, target_size=IMAGE_SIZE)\n",
        "  imgplot = plt.imshow(img)\n",
        "  x = image.img_to_array(img)\n",
        "  x = np.expand_dims(x, axis=0)\n",
        "\n",
        "  images = np.vstack([x])\n",
        "  classes = densenet_model.predict(images, batch_size=BATCH_SIZE)\n",
        "  classes = np.argmax(classes)\n",
        "\n",
        "  print(fn)\n",
        "  if classes==0:\n",
        "    print('daisy')\n",
        "  elif classes==1:\n",
        "    print('dandelion')\n",
        "  elif classes==2:\n",
        "    print('rose')\n",
        "  elif classes==3:\n",
        "    print('sunflower')\n",
        "  else:\n",
        "    print('tulip')"
      ]
    }
  ]
}