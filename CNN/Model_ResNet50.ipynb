{
  "nbformat": 4,
  "nbformat_minor": 0,
  "metadata": {
    "colab": {
      "provenance": []
    },
    "kernelspec": {
      "name": "python3",
      "display_name": "Python 3"
    },
    "language_info": {
      "name": "python"
    }
  },
  "cells": [
    {
      "cell_type": "code",
      "execution_count": null,
      "metadata": {
        "id": "kFPWCkQZrhI6"
      },
      "outputs": [],
      "source": [
        "from tensorflow.keras.applications import ResNet50\n",
        "\n",
        "# Loading ResNet50 model\n",
        "base_resnet_model = ResNet50(include_top=False,\n",
        "                   input_shape=(IMAGE_SIZE[0],IMAGE_SIZE[1],3),\n",
        "                   pooling='max',classes=5,\n",
        "                   weights='imagenet')\n",
        "\n",
        "base_resnet_model.trainable = False\n",
        "\n",
        "train_data.preprocessing_function = tf.keras.applications.resnet50.preprocess_input\n",
        "\n",
        "\n",
        "# Transfer learning ResNet50\n",
        "resnet_model = tf.keras.models.Sequential([\n",
        "    data_augmentation,\n",
        "    base_resnet_model,\n",
        "    tf.keras.layers.Flatten(),\n",
        "    tf.keras.layers.Dense(64, activation=\"relu\"),\n",
        "    tf.keras.layers.Dense(64, activation=\"relu\"),\n",
        "    tf.keras.layers.Dense(5, activation=\"softmax\")\n",
        "])"
      ]
    }
  ]
}