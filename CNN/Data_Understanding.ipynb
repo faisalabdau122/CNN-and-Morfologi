{
  "nbformat": 4,
  "nbformat_minor": 0,
  "metadata": {
    "colab": {
      "provenance": []
    },
    "kernelspec": {
      "name": "python3",
      "display_name": "Python 3"
    },
    "language_info": {
      "name": "python"
    }
  },
  "cells": [
    {
      "cell_type": "code",
      "execution_count": null,
      "metadata": {
        "id": "kFPWCkQZrhI6"
      },
      "outputs": [],
      "source": [
        "import os\n",
        "base_dir = '/Rin Rin Nurmalasari/flowers'\n",
        "\n",
        "number_label = {}\n",
        "total_files = 0\n",
        "for i in os.listdir(base_dir):\n",
        "    counting = len(os.listdir(os.path.join(base_dir, i)))\n",
        "    number_label[i] = counting\n",
        "    total_files += counting\n",
        "\n",
        "print(\"Total Files : \" + str(total_files))\n",
        "\n",
        "import matplotlib.pyplot as plt\n",
        "\n",
        "plt.bar(number_label.keys(), number_label.values());\n",
        "plt.title(\"Jumlah Gambar Tiap Label\");\n",
        "plt.xlabel('Label');\n",
        "plt.ylabel('Jumlah Gambar');\n",
        "\n",
        "import matplotlib.image as mpimg\n",
        "\n",
        "img_each_class = 1\n",
        "img_samples = {}\n",
        "classes = list(number_label.keys())\n",
        "\n",
        "\n",
        "for c in classes:\n",
        "    temp = os.listdir(os.path.join(base_dir, c))[:img_each_class]\n",
        "    for item in temp:\n",
        "        img_path = os.path.join(base_dir, c, item)\n",
        "        img_samples[c] = img_path\n",
        "\n",
        "for i in img_samples:\n",
        "    fig = plt.gcf()\n",
        "    img = mpimg.imread(img_samples[i])\n",
        "    plt.title(i)\n",
        "    plt.imshow(img)\n",
        "    plt.show()"
      ]
    }
  ]
}