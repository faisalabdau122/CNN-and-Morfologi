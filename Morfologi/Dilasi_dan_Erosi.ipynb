{
  "nbformat": 4,
  "nbformat_minor": 0,
  "metadata": {
    "colab": {
      "provenance": []
    },
    "kernelspec": {
      "name": "python3",
      "display_name": "Python 3"
    },
    "language_info": {
      "name": "python"
    }
  },
  "cells": [
    {
      "cell_type": "code",
      "execution_count": null,
      "metadata": {
        "id": "kFPWCkQZrhI6"
      },
      "outputs": [],
      "source": [
        "import cv2\n",
        "import numpy as np\n",
        "import matplotlib.pyplot as plt\n",
        "%matplotlib inline\n",
        "\n",
        "# Reading the input image\n",
        "img = cv2.imread('struktur.png', 0)\n",
        "\n",
        "# Taking a matrix of size 5 as the kernel\n",
        "kernel = np.ones((5,5), np.uint8)\n",
        "\n",
        "img_erosion = cv2.erode(img, kernel, iterations=1)\n",
        "img_dilation = cv2.dilate(img, kernel, iterations=1)\n",
        "fig, axes = plt.subplots(3, 2, figsize=(20, 20))\n",
        "ax = axes.ravel()\n",
        "\n",
        "ax[0].imshow(img, cmap = 'gray')\n",
        "ax[0].set_title(\"Citra Input\")\n",
        "ax[1].hist(img.ravel(), bins = 256)\n",
        "ax[1].set_title(\"Histogram Citra Input\")\n",
        "\n",
        "ax[2].imshow(img_erosion, cmap = 'gray')\n",
        "ax[2].set_title(\"Citra Output Erosi\")\n",
        "ax[3].hist(img_erosion.ravel(), bins = 256)\n",
        "ax[3].set_title(\"Histogram Citra Output Erosi\")\n",
        "\n",
        "ax[4].imshow(img_dilation, cmap = 'gray')\n",
        "ax[4].set_title(\"Citra Output Dilasi\")\n",
        "ax[5].hist(img_dilation.ravel(), bins = 256)\n",
        "ax[5].set_title(\"Histogram Citra Output Erosi\")"
      ]
    }
  ]
}