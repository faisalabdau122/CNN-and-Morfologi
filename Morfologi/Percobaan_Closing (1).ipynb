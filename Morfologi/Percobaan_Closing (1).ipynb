{
  "nbformat": 4,
  "nbformat_minor": 0,
  "metadata": {
    "colab": {
      "provenance": []
    },
    "kernelspec": {
      "name": "python3",
      "display_name": "Python 3"
    },
    "language_info": {
      "name": "python"
    }
  },
  "cells": [
    {
      "cell_type": "code",
      "execution_count": null,
      "metadata": {
        "id": "kFPWCkQZrhI6"
      },
      "outputs": [],
      "source": [
        "import cv2\n",
        "import numpy as np\n",
        "from skimage import data\n",
        "from skimage.io import imread\n",
        "\n",
        "import matplotlib.pyplot as plt\n",
        "%matplotlib inline\n",
        "\n",
        "image = imread(fname=\"aqua2.jpg\")\n",
        "\n",
        "print(image.shape)\n",
        "plt.imshow(image)\n",
        "\n",
        "hsv = cv2.cvtColor(image, cv2.COLOR_BGR2HSV)\n",
        "\n",
        "# defining the range of masking\n",
        "blue1 = np.array([110, 50, 50])\n",
        "blue2 = np.array([130, 255, 255])\n",
        "\n",
        "# initializing the mask to be\n",
        "# convoluted over input image\n",
        "mask = cv2.inRange(hsv, blue1, blue2)\n",
        "\n",
        "# passing the bitwise_and over\n",
        "# each pixel convoluted\n",
        "res = cv2.bitwise_and(image, image, mask = mask)\n",
        "\n",
        "# defining the kernel i.e. Structuring element\n",
        "kernel = np.ones((5, 5), np.uint8)\n",
        "\n",
        "# defining the closing function\n",
        "# over the image and structuring element\n",
        "closing = cv2.morphologyEx(mask, cv2.MORPH_CLOSE, kernel)\n",
        "\n",
        "fig, axes = plt.subplots(1, 2, figsize=(12, 12))\n",
        "ax = axes.ravel()\n",
        "\n",
        "ax[0].imshow(mask)\n",
        "ax[0].set_title(\"Citra Input 1\")\n",
        "\n",
        "ax[1].imshow(closing, cmap='gray')\n",
        "ax[1].set_title('Citra Input 2')"
      ]
    }
  ]
}